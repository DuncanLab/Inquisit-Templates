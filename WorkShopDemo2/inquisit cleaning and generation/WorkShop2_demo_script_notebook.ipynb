{
 "cells": [
  {
   "cell_type": "markdown",
   "metadata": {},
   "source": [
    "# INQUISIT PYTHON SCRIPT NOTEBOOK"
   ]
  },
  {
   "cell_type": "code",
   "execution_count": 1,
   "metadata": {
    "collapsed": false
   },
   "outputs": [],
   "source": [
    "# IMPORTS\n",
    "import pandas as pd\n",
    "import glob\n",
    "import os\n",
    "from shutil import copyfile"
   ]
  },
  {
   "cell_type": "markdown",
   "metadata": {},
   "source": [
    "## Excel To Inquisit Code"
   ]
  },
  {
   "cell_type": "code",
   "execution_count": null,
   "metadata": {
    "collapsed": true
   },
   "outputs": [],
   "source": [
    "# Convert the excel files into inquisit code.\n",
    "# if the column that is being converted contains an image name. Add the path to the image folder to its name.\n",
    "\n",
    "files = glob.glob('output_cleaned/*.xlsx')\n",
    "\n",
    "for fp in files:\n",
    "    df = pd.read_excel(fp)\n",
    "    print fp\n",
    "    items = \"\"\n",
    "    file_name = fp.split(os.sep)[1].split('.')[0]\n",
    "    for col in df.columns.values:\n",
    "        items += '<item %s_%s>\\n' % (file_name, col)\n",
    "        i = 1\n",
    "        for index, row in df[col].iteritems():\n",
    "            items += '/%d = \\\"%s\\\"\\n' % (i, row)\n",
    "            i += 1\n",
    "\n",
    "        items += '</item>\\n'\n",
    "        fp = open('output_inquisit/%s.txt' % file_name, 'w')\n",
    "        fp.write(items)\n",
    "        fp.close()"
   ]
  },
  {
   "cell_type": "code",
   "execution_count": null,
   "metadata": {
    "collapsed": true
   },
   "outputs": [],
   "source": [
    "# PUT IN FOLLOWING FORMAT:\n",
    "\n",
    "# <item {FILE NAME}_{COLUMN NAME}>\n",
    "# /1 = '{COLUMN VALUE}'\n",
    "# /2 = '{COLUMN VALUE}'\n",
    "# /3 = '{COLUMN VALUE}'\n",
    "# /4 = '{COLUMN VALUE}'\n",
    "# /5 = '{COLUMN VALUE}'\n",
    "# ...\n",
    "# </item>"
   ]
  }
 ],
 "metadata": {
  "anaconda-cloud": {},
  "kernelspec": {
   "display_name": "Python 2",
   "language": "python",
   "name": "python2"
  },
  "language_info": {
   "codemirror_mode": {
    "name": "ipython",
    "version": 2
   },
   "file_extension": ".py",
   "mimetype": "text/x-python",
   "name": "python",
   "nbconvert_exporter": "python",
   "pygments_lexer": "ipython2",
   "version": "2.7.12"
  }
 },
 "nbformat": 4,
 "nbformat_minor": 0
}
