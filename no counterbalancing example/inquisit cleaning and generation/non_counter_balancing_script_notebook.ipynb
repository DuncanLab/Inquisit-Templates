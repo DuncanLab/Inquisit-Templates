{
 "cells": [
  {
   "cell_type": "markdown",
   "metadata": {},
   "source": [
    "# INQUISIT PYTHON SCRIPT NOTEBOOK"
   ]
  },
  {
   "cell_type": "code",
   "execution_count": 1,
   "metadata": {
    "collapsed": false
   },
   "outputs": [],
   "source": [
    "# IMPORTS\n",
    "import pandas as pd\n",
    "import glob\n",
    "import os\n",
    "from shutil import copyfile"
   ]
  },
  {
   "cell_type": "markdown",
   "metadata": {},
   "source": [
    "## Add JPG To Prescene Excel Files"
   ]
  },
  {
   "cell_type": "code",
   "execution_count": null,
   "metadata": {
    "collapsed": true
   },
   "outputs": [],
   "source": [
    "# Prescene image names in the Excel files are missing the file extension.\n",
    "\n",
    "files = glob.glob('participant_files/*.xlsx')\n",
    "\n",
    "for fp in files:\n",
    "    if 'PreScene' not in fp:\n",
    "        copyfile(fp, 'output_cleaned/%s' % fp.split(os.sep)[1])\n",
    "        continue\n",
    "\n",
    "    df = pd.read_excel(fp)\n",
    "    df['PreScene'] = df['PreScene'].astype(str)\n",
    "    df['PreScene'] += '.jpg'\n",
    "    df.to_excel('output_cleaned/%s' % fp.split(os.sep)[1], index=False)"
   ]
  },
  {
   "cell_type": "markdown",
   "metadata": {},
   "source": [
    "## Excel To Inquisit Code"
   ]
  },
  {
   "cell_type": "code",
   "execution_count": null,
   "metadata": {
    "collapsed": true
   },
   "outputs": [],
   "source": [
    "# Convert the excel files into inquisit code.\n",
    "# if the column that is being converted contains an image name. Add the path to the image folder to its name.\n",
    "\n",
    "files = glob.glob('output_cleaned/*.xlsx')\n",
    "\n",
    "for fp in files:\n",
    "    df = pd.read_excel(fp)\n",
    "    print fp\n",
    "    items = \"\"\n",
    "    file_name = fp.split(os.sep)[1].split('.')[0]\n",
    "    for col in df.columns.values:\n",
    "        items += '<item %s_%s>\\n' % (file_name, col)\n",
    "        i = 1\n",
    "        for index, row in df[col].iteritems():\n",
    "            if '.jpg' in str(row) or '.jpeg' in str(row):\n",
    "                items += '/%d = \\\"images/%s\\\"\\n' % (i, row)\n",
    "            else:\n",
    "                items += '/%d = \\\"%s\\\"\\n' % (i, row)\n",
    "            i += 1\n",
    "\n",
    "        items += '</item>\\n'\n",
    "        fp = open('output_inquisit/%s.txt' % file_name, 'w')\n",
    "        fp.write(items)\n",
    "        fp.close()"
   ]
  },
  {
   "cell_type": "markdown",
   "metadata": {},
   "source": [
    "## Pre-scene Inquisit"
   ]
  },
  {
   "cell_type": "code",
   "execution_count": null,
   "metadata": {
    "collapsed": true
   },
   "outputs": [],
   "source": [
    "# Create a unqiue pre-scene file for each ordering that calls the unique subject file ordering\n",
    "\n",
    "a = \"<include>\\n\" \\\n",
    "    \"/ file = \\\"../../prescene_{0}.iqx\\\"\\n\" \\\n",
    "    \"/ file = \\\"../../SubjectFiles/{1}.txt\\\"\\n\" \\\n",
    "    \"</include>\\n\\n\" \\\n",
    "    \"< picture background_img_prescene_{0}>\\n\" \\\n",
    "    \"/ items = item.{1}_PreScene\\n\" \\\n",
    "    \"/ select = sequence\\n\" \\\n",
    "    \"/ erase = false\\n\" \\\n",
    "    \"/ size = (50%%, 50%%)\\n\" \\\n",
    "    \"/ position = (50%%, 35%%)\\n\" \\\n",
    "    \"</picture>\\n\\n\"\n",
    "\n",
    "b = \"<text prescene_sub_{1}>\\n\" \\\n",
    "    \"/ items = item.{1}_Sub\\n\" \\\n",
    "    \"/ select = sequence\\n\" \\\n",
    "    \"/ color = white\\n\" \\\n",
    "    \"/ size = (0, 0)\\n\" \\\n",
    "    \"/ erase = false\\n\" \\\n",
    "    \"</text>\"\n",
    "\n",
    "files = glob.glob('output_cleaned/*PreScene.xlsx')\n",
    "\n",
    "for name in files:\n",
    "    file_name = name.split(os.sep)[1].split('.')[0]\n",
    "\n",
    "    participant_and_block = file_name[:-9]\n",
    "\n",
    "    block = file_name.split('_')[1].lower()\n",
    "\n",
    "    inquisit_file = open('inquisit/prescene/%s.txt' % participant_and_block, 'w')\n",
    "    inquisit_file.write(a.format(block, file_name))\n",
    "    inquisit_file.write(b.format(block, file_name))\n",
    "    inquisit_file.close()"
   ]
  },
  {
   "cell_type": "markdown",
   "metadata": {},
   "source": [
    "## Exp Inquisit"
   ]
  },
  {
   "cell_type": "code",
   "execution_count": null,
   "metadata": {
    "collapsed": true
   },
   "outputs": [],
   "source": [
    "# Create the block orderings for each participant. Must be unique per subject ordering since it must call a specific file based\n",
    "# on the subject number.\n",
    "\n",
    "var = \"<include>\\n\" \\\n",
    "      \"/ file = \\\"prescene/Sub1_B1_Prac.txt\\\"\\n\" \\\n",
    "      \"/ file = \\\"../survey.iqx\\\"\\n\" \\\n",
    "      \"/ file = \\\"prescene/Sub{0}_B1.txt\\\"\\n\" \\\n",
    "      \"/ file = \\\"prescene/Sub{0}_B2.txt\\\"\\n\" \\\n",
    "      \"/ file = \\\"prescene/Sub{0}_B3.txt\\\"\\n\" \\\n",
    "      \"</include>\\n\\n\" \\\n",
    "      \"<expt>\\n\" \\\n",
    "      \"/blocks=[1=instruction_block_prac_prescene_b1;2=b1_prac_prescene;3=survey;4=instruction_block_prescene_b1;\"\\\n",
    "        \"5=b1_prescene;6=instruction_block_prescene_b2;7=b2_prescene;8=instruction_block_prescene_b3;9=b3_prescene;\"\\\n",
    "        \"10=demographics_block;11=worker_id_block\"\\\n",
    "      \"</expt>\"\n",
    "\n",
    "num_participants = 16\n",
    "\n",
    "for i in range(1, num_participants + 1):\n",
    "    content = var.format(i)\n",
    "    fp = open('inquisit/exp/Sub%d.txt' % i, 'w')\n",
    "    fp.write(content)\n",
    "    fp.close()"
   ]
  },
  {
   "cell_type": "markdown",
   "metadata": {},
   "source": [
    "## Include Inquisit"
   ]
  },
  {
   "cell_type": "code",
   "execution_count": null,
   "metadata": {
    "collapsed": true
   },
   "outputs": [],
   "source": [
    "# Include file required since Main Inquisit file <batch> tag does not support paths.\n",
    "# One required by ordering, calls the Exp file for that ordering.\n",
    "\n",
    "var = \"<include>\\n\" \\\n",
    "      \"/ file = \\\"exp/Sub%d.txt\\\"\\n\" \\\n",
    "      \"</include>\"\n",
    "\n",
    "num_participants = 16\n",
    "for i in range(1, num_participants + 1):\n",
    "    fp = open('inquisit/include/Sub%d_include.iqx' % i, 'w')\n",
    "    fp.write(var % i)\n",
    "    fp.close()"
   ]
  },
  {
   "cell_type": "markdown",
   "metadata": {},
   "source": [
    "## Main Inquisit"
   ]
  },
  {
   "cell_type": "code",
   "execution_count": null,
   "metadata": {
    "collapsed": true
   },
   "outputs": [],
   "source": [
    "# Call the correct Include file based on the participant file.\n",
    "# 16 possible orderings. First 16 participants use the first 16 orderings, then the counter will go back to 1 and 17th participant\n",
    "# will use ordering #1, 18th will use ordering #2 and so on.\n",
    "\n",
    "num_of_subjects = 1000\n",
    "\n",
    "var = \"<batch>\\n\" \\\n",
    "      \"/ subjects = (%i of \" \\\n",
    "      + str(num_of_subjects) + \\\n",
    "      \")\\n\" \\\n",
    "      \"/ file = \\\"Sub%i_include.iqx\\\"\\n\" \\\n",
    "      \"</batch>\\n\\n\"\n",
    "\n",
    "fp = open('rachel_inquisit.iqx', 'w')\n",
    "\n",
    "j = 1\n",
    "for i in range(1, num_of_subjects + 1):\n",
    "    fp.write(var % (i, j))\n",
    "    j = j + 1 if j < 16 else 1\n",
    "\n",
    "fp.close()"
   ]
  },
  {
   "cell_type": "code",
   "execution_count": null,
   "metadata": {
    "collapsed": true
   },
   "outputs": [],
   "source": []
  }
 ],
 "metadata": {
  "anaconda-cloud": {},
  "kernelspec": {
   "display_name": "Python 2",
   "language": "python",
   "name": "python2"
  },
  "language_info": {
   "codemirror_mode": {
    "name": "ipython",
    "version": 2
   },
   "file_extension": ".py",
   "mimetype": "text/x-python",
   "name": "python",
   "nbconvert_exporter": "python",
   "pygments_lexer": "ipython2",
   "version": "2.7.12"
  }
 },
 "nbformat": 4,
 "nbformat_minor": 0
}
